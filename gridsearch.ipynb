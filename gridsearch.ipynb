{
 "cells": [
  {
   "cell_type": "code",
   "execution_count": 1,
   "metadata": {},
   "outputs": [],
   "source": [
    "import pandas as pd\n",
    "import numpy as np\n",
    "import matplotlib as mpl\n",
    "import matplotlib.pyplot as plt\n",
    "import sklearn as sk\n",
    "from decimal import Decimal\n",
    "from sklearn import linear_model\n",
    "from sklearn.preprocessing import label_binarize\n",
    "from sklearn.model_selection import train_test_split, KFold, GridSearchCV\n",
    "from sklearn.multiclass import OneVsRestClassifier as ovr\n",
    "from sklearn.metrics import confusion_matrix, accuracy_score, roc_curve, auc, precision_score, recall_score, f1_score \n",
    "from sklearn.ensemble import RandomForestClassifier, AdaBoostClassifier\n",
    "from sklearn.neural_network import MLPClassifier\n",
    "from sklearn.svm import SVC\n",
    "from sklearn.neighbors import KNeighborsClassifier\n",
    "from sklearn.naive_bayes import GaussianNB"
   ]
  },
  {
   "cell_type": "code",
   "execution_count": 3,
   "metadata": {},
   "outputs": [],
   "source": [
    "def getData():\n",
    "    dtype = {'BitRate': np.float64, 'FreezeRatio': np.float64, 'Quality': np.float64}\n",
    "    df_all = pd.read_table('../data.txt', delim_whitespace=True, dtype = dtype)\n",
    "    X, Y = np.array(df_all[['BitRate', 'FreezeRatio']]), np.array(df_all['Quality'])\n",
    "    return X, Y\n",
    "X, Y = getData() # Modify this function as per your need to get X and Y data."
   ]
  },
  {
   "cell_type": "code",
   "execution_count": 4,
   "metadata": {},
   "outputs": [],
   "source": [
    "classifiers = {'Random Forest': RandomForestClassifier(random_state = 1), \n",
    "               'Nearest Neighbors': KNeighborsClassifier(),\n",
    "               'Naive Bayers': GaussianNB(),\n",
    "               'SVM': SVC(probability = True),\n",
    "               'MLP': MLPClassifier(random_state = 1, max_iter = 10000),\n",
    "               'AdaBoost': AdaBoostClassifier(random_state = 1)\n",
    "              }\n",
    "\n",
    "params = {'Random Forest': {'n_estimators': range(1, 21), 'criterion': ('gini', 'entropy')},\n",
    "          'Nearest Neighbors': {'n_neighbors':range(1, 11)},\n",
    "          'Naive Bayers': {},\n",
    "          'SVM': {'kernel':('poly', 'rbf', 'sigmoid'), 'C':[0.1, 1, 10]},\n",
    "          'MLP': {'hidden_layer_sizes': [(5,), (10,), (25,), (50,), (100,), (200,)], \n",
    "                  'alpha': [0.0001, 0.001],\n",
    "                  'activation': ('logistic', 'tanh', 'relu'), \n",
    "                  'solver': ('lbfgs', 'sgd', 'adam')},\n",
    "          'AdaBoost': {'n_estimators': [10, 25, 50, 100], 'learning_rate': [0.01, 0.1, 1, 10]}\n",
    "         }"
   ]
  },
  {
   "cell_type": "code",
   "execution_count": 7,
   "metadata": {},
   "outputs": [],
   "source": [
    "fold = 10\n",
    "accuracies = {}\n",
    "confusion = {}\n",
    "# function for obtaining best estimator using grid search\n",
    "def grid_search(estimator, params):\n",
    "    clf = GridSearchCV(estimator, params)\n",
    "    clf.fit(X, Y)\n",
    "    return (clf.best_estimator_, clf.best_score_)\n",
    "\n",
    "# function for performing k-fold cross validation \n",
    "def k_Fold_CV(estimator, n):\n",
    "    accuracies = []\n",
    "    confusion = []\n",
    "    kf = KFold(n_splits = n)\n",
    "    for train, test in kf.split(X):\n",
    "        pred = estimator.fit(X[train], Y[train]).predict(X[test])\n",
    "        accuracies.append(estimator.score(X[test], Y[test]))\n",
    "        confusion.append(confusion_matrix(Y[test], pred))\n",
    "    return (accuracies, confusion)"
   ]
  },
  {
   "cell_type": "code",
   "execution_count": null,
   "metadata": {},
   "outputs": [],
   "source": [
    "best_classifiers = {}\n",
    "for k in classifiers.keys():\n",
    "    best_classifiers[k], _ = grid_search(classifiers[k], params[k])\n",
    "    accuracies[k], confusion[k] = k_Fold_CV(best_classifiers[k], fold)\n",
    "for k, v in accuracies.items():\n",
    "    print(k)\n",
    "    print(\"{}_fold accuracies: \".format(fold), np.around(v, decimals = 3))\n",
    "    print(\"Average accuracy: {0:0.3f}\".format(np.mean(v)))\n",
    "    print(\"#################################\")"
   ]
  },
  {
   "cell_type": "code",
   "execution_count": null,
   "metadata": {},
   "outputs": [],
   "source": []
  }
 ],
 "metadata": {
  "kernelspec": {
   "display_name": "Python 2",
   "language": "python",
   "name": "python2"
  },
  "language_info": {
   "codemirror_mode": {
    "name": "ipython",
    "version": 2
   },
   "file_extension": ".py",
   "mimetype": "text/x-python",
   "name": "python",
   "nbconvert_exporter": "python",
   "pygments_lexer": "ipython2",
   "version": "2.7.12"
  }
 },
 "nbformat": 4,
 "nbformat_minor": 2
}
